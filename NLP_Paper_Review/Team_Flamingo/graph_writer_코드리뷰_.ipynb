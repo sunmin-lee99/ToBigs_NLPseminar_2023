{
  "nbformat": 4,
  "nbformat_minor": 0,
  "metadata": {
    "colab": {
      "provenance": []
    },
    "kernelspec": {
      "name": "python3",
      "display_name": "Python 3"
    },
    "language_info": {
      "name": "python"
    }
  },
  "cells": [
    {
      "cell_type": "markdown",
      "source": [
        "#데이터 \n",
        "https://github.com/rikdz/GraphWriter/tree/master"
      ],
      "metadata": {
        "id": "7b2nfZsc7hHc"
      }
    },
    {
      "cell_type": "code",
      "source": [
        "#unprocessed\n",
        "{\n",
        "    \"title\": \"Hierarchical Semantic Classification : Word Sense Disambiguation with World Knowledge .\",\n",
        "    \"entities\": [\n",
        "      \"task-specific and background data\",\n",
        "      \"lexical semantic classification problems\",\n",
        "      \"word sense disambiguation task\",\n",
        "      \"hierarchical learning architecture\",\n",
        "      \"task-specific training data\",\n",
        "      \"background data\",\n",
        "      \"learning architecture\"\n",
        "    ],\n",
        "    \"types\": \"<material> <task> <task> <method> <material> <material> <method>\",\n",
        "    \"relations\": [\n",
        "      \"learning architecture -- USED-FOR -- lexical semantic classification problems\"\n",
        "    ],\n",
        "    \"abstract\": \"we present a <method_6> for <task_1> that supplements <material_4> with <material_5> encoding general '' world knowledge '' . the <method_6> compiles knowledge contained in a dictionary-ontology into additional training data , and integrates <material_0> through a novel <method_3> . experiments on a <task_2> provide empirical evidence that this '' <method_3> '' outperforms a state-of-the-art standard '' flat '' one .\",\n",
        "    \"abstract_og\":\" we present a learning architecture for lexical semantic classification problems that supplements task-specific training data with background data encoding general '' world knowledge '' . the learning architecture compiles knowledge contained in a dictionary-ontology into additional training data , and integrates task-specific and background data through a novel hierarchical learning architecture . experiments on a word sense disambiguation task provide empirical evidence that this '' hierarchical learning architecture '' outperforms a state-of-the-art standard '' flat '' one .\"\n",
        "  },"
      ],
      "metadata": {
        "id": "xxsKbp080DCh"
      },
      "execution_count": null,
      "outputs": []
    },
    {
      "cell_type": "code",
      "source": [
        "#relation.vocab\n",
        "USED-FOR\n",
        "CONJUNCTION\n",
        "FEATURE-OF\n",
        "PART-OF\n",
        "COMPARE\n",
        "EVALUATE-FOR\n",
        "HYPONYM-OF"
      ],
      "metadata": {
        "id": "zjsqBdh297gi"
      },
      "execution_count": null,
      "outputs": []
    },
    {
      "cell_type": "code",
      "source": [
        "#processed\n",
        "Hierarchical Semantic Classification : Word Sense Disambiguation with World Knowledge .\ttask-specific and background data ; lexical semantic classification problems ; \n",
        "word sense disambiguation task ; hierarchical learning architecture ; task-specific training data ; background data ; learning architecture\t\n",
        "<material> <task> <task> <method> <material> <material> <method>\t6 0 1\n",
        "\twe present a <method_6> for <task_1> that supplements <material_4> with <material_5> encoding general '' world knowledge '' .\n",
        "   the <method_6> compiles knowledge contained in a dictionary-ontology into additional training data , and integrates <material_0> through a novel <method_3> . \n",
        "   experiments on a <task_2> provide empirical evidence that this '' <method_3> '' outperforms a state-of-the-art standard '' flat '' one .\n",
        "   \t6 1 4 5 8 7 -1 0 3 7 -1 2 7 -1'\n"
      ],
      "metadata": {
        "id": "g5spyK6s031u"
      },
      "execution_count": null,
      "outputs": []
    },
    {
      "cell_type": "markdown",
      "source": [
        "#트리플이란?\n",
        "- 그래프 데이터를 표현 \n",
        "- 각 요소는 공백으로 표현 \n",
        "- 첫번째 요소는 출발 노드(엔티티), 두번째 요소는 관계(엣지), 세번째 요소는 도착노드 (엔티티)를 나타낸다. \n",
        "\n",
        "ex) 1 0 2; 2 1 3; 3 0 4\n",
        "\n",
        "첫번째 트리플은 출발 노드가 1, 관계가 0, 도착노드가 2인 트리플을 나타냄. \n",
        "![image.png](data:image/png;base64,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)"
      ],
      "metadata": {
        "id": "oonSiXZJ0CAi"
      }
    },
    {
      "cell_type": "code",
      "source": [
        " def mkGraphs(self,r,ent):\n",
        "    #triples을 입력으로 받아 엔터티 리스트와 인접 행렬(adjacency matrix) 및 관계 행렬(relation matrix)\n",
        "    #로 변환하는 기능을 수행\n",
        "    #r이 트리플을 나타내는 문자열 \n",
        "    #ent는 엔티티의 개수를 나타냄\n",
        "    pieces = r.strip().split(';')\n",
        "    #문자열 r을 세미콜론을 기준으로 분리하여 pieces리스트에 저장한다. \n",
        "    x = [[int(y) for y in z.strip().split()] for z in pieces]\n",
        "    #각 리스트 요소에서 공백을 기준으로 분리하여 정수형으로 변환 > 트리플의 요소들을 숫자로 추출\n",
        "    rel = [2]\n",
        "    adjsize = ent+1+(2*len(x)) \n",
        "    adj = torch.zeros(adjsize,adjsize)#크기가 adjsize인 0으로 초기화된 토치텐서 생성. 이는 인접행렬을 나타냄 \n",
        "    for i in range(ent): #엔티티의 개수만큼 반복 \n",
        "      #adj[i,0]=1\n",
        "      adj[ent+1,i]=1 #엔티티와 global root node사이의 연결을 나타내는 인접행렬 요소를 1로 설정 \n",
        "      #global root node와 i 번째 엔티티 사이의 연결을 나타내는 것. \n",
        "    for i in range(adjsize):\n",
        "      adj[i,i]=1 #인접 행렬의 대각선 요소들을 1로 설정하여 자기 자신과의 연결을 나타냄   \n",
        "    for y in x:\n",
        "      rel.extend([y[1]+3,y[1]+3+self.REL.size])# rel리스트에 트리플의 관계를 추가한다. \n",
        "      #트리플의 두번째 요소 y[1]에 3을 더하고, self.REL.size를 더하여 관계를 인덱스화\n",
        "      a = y[0] #트리플의 첫번째 요소를 a\n",
        "      b = y[2] #세번째 요소를 b로 할당\n",
        "      c = ent+len(rel)-2\n",
        "      d = ent+len(rel)-1\n",
        "      adj[a,c] = 1 \n",
        "      adj[c,b] = 1\n",
        "      adj[b,d] = 1 \n",
        "      adj[d,a] = 1\n",
        "    rel = torch.LongTensor(rel)\n",
        "    return (adj,rel) #생성된 인접행렬과 관계행렬을 반환. 트리플을 엔티티 리스트와 함께 표현하는 구조인 그래프를 나타냄. "
      ],
      "metadata": {
        "id": "ihidTsMKuwJ4"
      },
      "execution_count": null,
      "outputs": []
    },
    {
      "cell_type": "markdown",
      "source": [
        "#인코더 "
      ],
      "metadata": {
        "id": "62CHrwGVkRCr"
      }
    },
    {
      "cell_type": "code",
      "execution_count": null,
      "metadata": {
        "id": "0OgYTZuKVvCA"
      },
      "outputs": [],
      "source": [
        "import torch\n",
        "import math\n",
        "from torch import nn\n",
        "from torch.nn import functional as F\n",
        "from models.graphAttn import GAT #구현된 것 import \n",
        "from allennlp.modules.seq2seq_encoders.stacked_self_attention import StackedSelfAttentionEncoder\n",
        "from models.attention import MultiHeadAttention #구현된 것 import \n",
        "\n",
        "\n",
        "def gelu(x): #활성화함수로 gelu사용 \n",
        "  return 0.5 * x * (1 + torch.tanh(math.sqrt(2 / math.pi) * (x + 0.044715 * torch.pow(x, 3))))\n",
        "\n",
        "class Block(nn.Module):\n",
        "  def __init__(self,args):\n",
        "    super().__init__()\n",
        "    self.attn = MultiHeadAttention(args.hsz,args.hsz,args.hsz,h=4,dropout_p=args.drop) #헤드가 4인 멀티헤드어텐션 \n",
        "    self.l1 = nn.Linear(args.hsz,args.hsz*4) #선형변환 \n",
        "    self.l2 = nn.Linear(args.hsz*4,args.hsz) #선형변환 \n",
        "    self.ln_1 = nn.LayerNorm(args.hsz)\n",
        "    self.ln_2 = nn.LayerNorm(args.hsz)\n",
        "    self.drop = nn.Dropout(args.drop)\n",
        "    self.act = gelu\n",
        "\n",
        "  def forward(self,q,k,m):\n",
        "    q = self.attn(q,k,mask=m).squeeze(1) #q,k,m에 대해 multiHeadAttention을 수행 , 크기가 1인 차원을 제거\n",
        "    t = self.ln_1(q) #레이어 정규화 \n",
        "    q = self.drop(self.l2(self.act(self.l1(t)))) #선형변환> glue > 선형변환> drop\n",
        "    q = self.ln_1(q+t) #t와 q를 합한 것을 레이어 정규화 \n",
        "    return q\n",
        "\n",
        "class graph_encode(nn.Module):\n",
        "  def __init__(self,args):\n",
        "    super().__init__()\n",
        "    self.renc = nn.Embedding(args.rtoks,args.hsz)\n",
        "    nn.init.xavier_normal_(self.renc.weight)\n",
        "    #self.gat = StackedSelfAttentionEncoder(args.hsz,args.hsz,args.hsz,args.hsz,args.prop,args.heads,use_positional_encoding=False)\n",
        "\n",
        "    self.gat = nn.ModuleList([MultiHeadAttention(args.hsz,args.hsz,args.hsz,h=4,dropout_p=args.drop) for _ in range(args.prop)])\n",
        "    self.gat = nn.ModuleList([Block(args) for _ in range(args.prop)])\n",
        "    self.prop = args.prop\n",
        "\n",
        "  def pad(self,tensor,length):\n",
        "    return torch.cat([tensor, tensor.new(length - tensor.size(0), *tensor.size()[1:]).fill_(0)])\n",
        "\n",
        "  def forward(self,adjs,rels,ents):\n",
        "    #adjs: 그래프의 인접 행렬들을 나타내는 리스트\n",
        "    #rels: 관계에 대한 정보를 나타내는 리스트 \n",
        "    #ents: 엔터티에 대한 정보를 나타내는 튜플 --> 엔터티 벡터와 엔터티 길이를 담은 튜플\n",
        "    vents,entlens = ents\n",
        "    vents = torch.tensor(vents,requires_grad=False)\n",
        "    vrels = [self.renc(x) for x in rels] #관계 정보에 대한 임베딩 수행 \n",
        "    gents = [] #엔터티 벡터 \n",
        "    grels = [] #관계 벡터 \n",
        "    glob = [] #그래프 전역 벡터  를 저장할 변수,, 리스트초기화 \n",
        "    for i,adj in enumerate(adjs):\n",
        "      vgraph = torch.cat((vents[i][:entlens[i]],vrels[i]),0) #그래프에 대한 엔터티 벡터와 관계벡터를 결합하여 vgraph생성 \n",
        "      N = vgraph.size(0)\n",
        "      mask = (adj == 0).unsqueeze(1)\n",
        "      for j in range(self.prop): #self.prop에 지정된 횟수만큼 반복하여 그래프 인코딩  \n",
        "        ngraph = vgraph.repeat(N,1).view(N,N,-1)\n",
        "        vgraph = self.gat[j](vgraph.unsqueeze(1),ngraph,mask) \n",
        "        vgraph = F.layer_norm(vgraph,vgraph.size()[1:])\n",
        "      gent = vgraph[:entlens[i],:] #엔터티 벡터 \n",
        "      grel = vgraph[entlens[i]+1:,:] #관계벡터 \n",
        "      glob.append(vgraph[entlens[i]]) #그래프 전역벡터 \n",
        "      gents.append(gent)\n",
        "      grels.append(grel)\n",
        "    #인코딩된 엔터티 벡터 gents와 관계 벡터 grels의 길이를 맞추기 위해 패딩을 수행 \n",
        "    elens = [x.size(0) for x in gents] #각각길이 정보 저장 \n",
        "    gents = [self.pad(x,max(elens)) for x in gents]\n",
        "    gents = torch.stack(gents,0) #길이만큼의 패딩된 텐서를 생성 \n",
        "    elens = torch.LongTensor(elens)\n",
        "    emask = torch.arange(0,gents.size(1)).unsqueeze(0).repeat(gents.size(0),1).long()\n",
        "    emask = (emask <= elens.unsqueeze(1)).cuda()\n",
        "    rlens = [x.size(0) for x in grels]\n",
        "    grels = [self.pad(x,max(rlens)) for x in grels]\n",
        "    grels = torch.stack(grels,0)\n",
        "    rlens = torch.LongTensor(rlens)\n",
        "    rmask = torch.arange(0,grels.size(1)).unsqueeze(0).repeat(grels.size(0),1).long()\n",
        "    rmask = (rmask <= rlens.unsqueeze(1)).cuda()\n",
        "    glob = torch.stack(glob,0)\n",
        "    return (gents,emask),glob,(grels,rmask) #인코딩 결과인 (gents,emask)튜플과 전역벡터 glob,관계 벡터 인코딩 결과인 (grels,rmask)튜플을 반환 "
      ]
    },
    {
      "cell_type": "markdown",
      "source": [
        "#graphattentionlayer"
      ],
      "metadata": {
        "id": "BjUZweayuqFs"
      }
    },
    {
      "cell_type": "code",
      "source": [
        "#GAT의 한 레이어를 구현하여 입력 특성과 인접 행렬을 기반으로 출력 특성을 계산함\n",
        "\n",
        "class GraphAttentionLayer(nn.Module):\n",
        "\n",
        "    def __init__(self, in_features, out_features, dropout, alpha, concat=True):\n",
        "        super(GraphAttentionLayer, self).__init__()\n",
        "        self.dropout = dropout\n",
        "        self.in_features = in_features\n",
        "        self.out_features = out_features\n",
        "        self.alpha = alpha\n",
        "        self.concat = concat\n",
        "\n",
        "        self.W = nn.Parameter(torch.zeros(size=(in_features, out_features)))\n",
        "        #학습가능한 파라미터 w는 입력 특성을 출력특성으로 변환하는 가중치 행렬 \n",
        "        nn.init.xavier_uniform_(self.W.data, gain=1.414) #가중치 초기화 방법. 각 가중치를 균등 분포에서 무작위로 초기화하는 방법 \n",
        "        self.a = nn.Parameter(torch.zeros(size=(2*out_features, 1)))\n",
        "        #어텐션 가중치를 계산하기 위한 가중치 벡터 \n",
        "        nn.init.xavier_uniform_(self.a.data, gain=1.414)\n",
        "        self.leakyrelu = nn.LeakyReLU(self.alpha)\n",
        "\n",
        "    def forward(self, input, adj):\n",
        "        h = torch.mm(input, self.W) #입력을 가중치 행렬W를 통해서 선형 변환한다. \n",
        "        N = h.size()[0]\n",
        "\n",
        "        a_input = torch.cat([h.repeat(1, N).view(N * N, -1), h.repeat(N, 1)], dim=1).view(N, -1, 2 * self.out_features)\n",
        "        #입력 h를 사용하여 각 노드 쌍의 어텐션 계수를 계산 \n",
        "        e = self.leakyrelu(torc \n",
        "        zero_vec = -9e15*torch.ones_like(e)\n",
        "        attention = torch.where(adj > 0, e, zero_vec) #계산된 어텐션계수에 인접행렬 adj를 적용하여 어텐션 메커니즘을 적용한다. \n",
        "        attention = F.softmax(attention, dim=1)\n",
        "        attention = F.dropout(attention, self.dropout, training=self.training) #정규화, 드롭아웃\n",
        "        h_prime = torch.matmul(attention, h) # 정규화된 어텐션 계수를 사용하여 가중 평균을 계산하여 출력특성을 얻는다. \n",
        "\n",
        "        if self.concat:\n",
        "            return F.elu(h_prime)\n",
        "        else:\n",
        "            return h_prime\n",
        "\n",
        "    def __repr__(self):\n",
        "        return self.__class__.__name__ + ' (' + str(self.in_features) + ' -> ' + str(self.out_features) + ')'\n"
      ],
      "metadata": {
        "id": "WA_ZOgvnfQSU"
      },
      "execution_count": null,
      "outputs": []
    }
  ]
}